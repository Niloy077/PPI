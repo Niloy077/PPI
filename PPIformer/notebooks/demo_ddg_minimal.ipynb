{
 "cells": [
  {
   "cell_type": "code",
   "execution_count": 4,
   "metadata": {},
   "outputs": [
    {
     "name": "stdout",
     "output_type": "stream",
     "text": [
      "The autoreload extension is already loaded. To reload it, use:\n",
      "  %reload_ext autoreload\n"
     ]
    }
   ],
   "source": [
    "%load_ext autoreload\n",
    "%autoreload 2"
   ]
  },
  {
   "cell_type": "code",
   "execution_count": 5,
   "metadata": {},
   "outputs": [],
   "source": [
    "import torch\n",
    "from ppiformer.tasks.node import DDGPPIformer\n",
    "from ppiformer.utils.api import download_weights, predict_ddg\n",
    "from ppiformer.definitions import PPIFORMER_WEIGHTS_DIR, PPIFORMER_TEST_DATA_DIR"
   ]
  },
  {
   "cell_type": "code",
   "execution_count": 7,
   "metadata": {},
   "outputs": [],
   "source": [
    "download_weights()"
   ]
  },
  {
   "cell_type": "code",
   "execution_count": 8,
   "metadata": {},
   "outputs": [
    {
     "name": "stderr",
     "output_type": "stream",
     "text": [
      "/Users/anton/miniconda3/envs/ppiformer_u/lib/python3.10/site-packages/pytorch_lightning/utilities/parsing.py:197: UserWarning: Attribute 'encoder' is an instance of `nn.Module` and is already saved during checkpointing. It is recommended to ignore them using `self.save_hyperparameters(ignore=['encoder'])`.\n",
      "  rank_zero_warn(\n",
      "/Users/anton/miniconda3/envs/ppiformer_u/lib/python3.10/site-packages/pytorch_lightning/utilities/parsing.py:197: UserWarning: Attribute 'classifier' is an instance of `nn.Module` and is already saved during checkpointing. It is recommended to ignore them using `self.save_hyperparameters(ignore=['classifier'])`.\n",
      "  rank_zero_warn(\n",
      "Process 83968 preparing data: 100%|██████████| 1/1 [00:00<00:00,  7.30it/s]\n"
     ]
    },
    {
     "name": "stdout",
     "output_type": "stream",
     "text": [
      "1 PPIs loaded: PPIInMemoryDataset(, n_muts=3)\n"
     ]
    },
    {
     "data": {
      "text/plain": [
       "tensor([-0.3708,  1.5188,  1.1482])"
      ]
     },
     "execution_count": 8,
     "metadata": {},
     "output_type": "execute_result"
    }
   ],
   "source": [
    "# Load models\n",
    "device = 'cpu'\n",
    "models = [\n",
    "    DDGPPIformer.load_from_checkpoint(\n",
    "        PPIFORMER_WEIGHTS_DIR / f'ddg_regression/{i}.ckpt',\n",
    "        map_location=torch.device(device)\n",
    "    ).eval()\n",
    "    for i in range(3)\n",
    "]\n",
    "\n",
    "# Specify input\n",
    "ppi_path = PPIFORMER_TEST_DATA_DIR / '1bui_A_C.pdb'  # PPIRef file (see https://github.com/anton-bushuiev/PPIRef?tab=readme-ov-file#extracting-ppis)\n",
    "muts = ['SC16A', 'FC47A', 'SC16A,FC47A']  # List of single- or multi-point mutations\n",
    "# Predict\n",
    "ddg = predict_ddg(models, ppi_path, muts)\n",
    "ddg"
   ]
  }
 ],
 "metadata": {
  "kernelspec": {
   "display_name": "ppiformer_u",
   "language": "python",
   "name": "python3"
  },
  "language_info": {
   "codemirror_mode": {
    "name": "ipython",
    "version": 3
   },
   "file_extension": ".py",
   "mimetype": "text/x-python",
   "name": "python",
   "nbconvert_exporter": "python",
   "pygments_lexer": "ipython3",
   "version": "3.10.0"
  },
  "orig_nbformat": 4
 },
 "nbformat": 4,
 "nbformat_minor": 2
}
